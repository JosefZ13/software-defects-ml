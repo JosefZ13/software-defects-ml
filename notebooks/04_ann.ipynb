{
 "cells": [
  {
   "cell_type": "code",
   "execution_count": null,
   "id": "90937339",
   "metadata": {},
   "outputs": [],
   "source": [
    "import pandas as pd\n",
    "from sklearn.model_selection import train_test_split\n",
    "from sklearn.preprocessing import StandardScaler\n",
    "from imblearn.over_sampling import SMOTE\n",
    "from sklearn.neural_network import MLPClassifier\n",
    "from sklearn.metrics import classification_report, confusion_matrix\n",
    "\n",
    "df = pd.read_csv('../data/JM1.csv')\n",
    "df['defects'] = df['defects'].astype(int)\n",
    "\n",
    "X = df.drop('defects', axis=1)\n",
    "y = df['defects']\n",
    "\n",
    "\n",
    "scaler = StandardScaler()\n",
    "X_scaled = scaler.fit_transform(X)\n",
    "\n",
    "\n",
    "X_train, X_test, y_train, y_test = train_test_split(\n",
    "    X_scaled, y, \n",
    "    test_size=0.2, \n",
    "    stratify=y, \n",
    "    random_state=42\n",
    ")\n",
    "\n",
    "\n",
    "smote = SMOTE(random_state=42)\n",
    "X_train_smote, y_train_smote = smote.fit_resample(X_train, y_train)\n",
    "\n",
    "\n",
    "print(\"SMOTE training class distribution:\\n\", y_train_smote.value_counts())\n",
    "\n",
    "ann_model = MLPClassifier(hidden_layer_sizes=(100, 50), max_iter=500, random_state=42)\n",
    "ann_model.fit(X_train_smote, y_train_smote)\n",
    "y_pred_ann = ann_model.predict(X_test)\n",
    "print(confusion_matrix(y_test, y_pred_ann))\n",
    "print(\"\\nClassification Report:\\n\", classification_report(y_test, y_pred_ann))"
   ]
  },
  {
   "cell_type": "code",
   "execution_count": null,
   "id": "d2bc0703",
   "metadata": {},
   "outputs": [],
   "source": [
    "\n",
    "ann_model = MLPClassifier(hidden_layer_sizes=(100, 50), max_iter=500, random_state=42)\n",
    "\n",
    "# Train\n",
    "ann_model.fit(X_train_smote, y_train_smote)\n",
    "\n",
    "# Predict\n",
    "y_pred_ann = ann_model.predict(X_test)\n"
   ]
  },
  {
   "cell_type": "code",
   "execution_count": null,
   "id": "f75756dc",
   "metadata": {},
   "outputs": [],
   "source": [
    "# Evaluation\n",
    "print(confusion_matrix(y_test, y_pred_ann))\n",
    "print(\"\\nClassification Report:\\n\", classification_report(y_test, y_pred_ann))\n"
   ]
  }
 ],
 "metadata": {
  "kernelspec": {
   "display_name": "Python 3",
   "language": "python",
   "name": "python3"
  },
  "language_info": {
   "codemirror_mode": {
    "name": "ipython",
    "version": 3
   },
   "file_extension": ".py",
   "mimetype": "text/x-python",
   "name": "python",
   "nbconvert_exporter": "python",
   "pygments_lexer": "ipython3",
   "version": "3.13.1"
  }
 },
 "nbformat": 4,
 "nbformat_minor": 5
}
