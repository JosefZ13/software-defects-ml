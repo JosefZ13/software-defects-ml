{
 "cells": [
  {
   "cell_type": "code",
   "execution_count": 4,
   "id": "b77c5f97",
   "metadata": {},
   "outputs": [
    {
     "name": "stdout",
     "output_type": "stream",
     "text": [
      "Logistic Regression (KC1)\n",
      "[[265  92]\n",
      " [ 22  43]]\n",
      "\n",
      "Classification Report:\n",
      "               precision    recall  f1-score   support\n",
      "\n",
      "           0       0.92      0.74      0.82       357\n",
      "           1       0.32      0.66      0.43        65\n",
      "\n",
      "    accuracy                           0.73       422\n",
      "   macro avg       0.62      0.70      0.63       422\n",
      "weighted avg       0.83      0.73      0.76       422\n",
      "\n"
     ]
    }
   ],
   "source": [
    "from sklearn.linear_model import LogisticRegression\n",
    "\n",
    "# Train Logistic Regression\n",
    "logreg_kc1 = LogisticRegression(max_iter=1000)\n",
    "logreg_kc1.fit(X_train_smote, y_train_smote)\n",
    "\n",
    "# Predict\n",
    "y_pred_logreg_kc1 = logreg_kc1.predict(X_test)\n",
    "\n",
    "# Evaluate\n",
    "print(\"Logistic Regression (KC1)\")\n",
    "print(confusion_matrix(y_test, y_pred_logreg_kc1))\n",
    "print(\"\\nClassification Report:\\n\", classification_report(y_test, y_pred_logreg_kc1))\n"
   ]
  },
  {
   "cell_type": "code",
   "execution_count": 5,
   "id": "bb460058",
   "metadata": {},
   "outputs": [
    {
     "name": "stdout",
     "output_type": "stream",
     "text": [
      "XGBoost (KC1)\n",
      "[[332  25]\n",
      " [ 29  36]]\n",
      "\n",
      "Classification Report:\n",
      "               precision    recall  f1-score   support\n",
      "\n",
      "           0       0.92      0.93      0.92       357\n",
      "           1       0.59      0.55      0.57        65\n",
      "\n",
      "    accuracy                           0.87       422\n",
      "   macro avg       0.75      0.74      0.75       422\n",
      "weighted avg       0.87      0.87      0.87       422\n",
      "\n"
     ]
    },
    {
     "name": "stderr",
     "output_type": "stream",
     "text": [
      "C:\\Users\\josef\\AppData\\Roaming\\Python\\Python313\\site-packages\\xgboost\\training.py:183: UserWarning: [21:48:30] WARNING: C:\\actions-runner\\_work\\xgboost\\xgboost\\src\\learner.cc:738: \n",
      "Parameters: { \"use_label_encoder\" } are not used.\n",
      "\n",
      "  bst.update(dtrain, iteration=i, fobj=obj)\n"
     ]
    }
   ],
   "source": [
    "from xgboost import XGBClassifier\n",
    "\n",
    "# Train XGBoost\n",
    "xgb_model_kc1 = XGBClassifier(use_label_encoder=False, eval_metric='logloss', random_state=42)\n",
    "xgb_model_kc1.fit(X_train_smote, y_train_smote)\n",
    "\n",
    "# Predict\n",
    "y_pred_xgb_kc1 = xgb_model_kc1.predict(X_test)\n",
    "\n",
    "# Evaluate\n",
    "print(\"XGBoost (KC1)\")\n",
    "print(confusion_matrix(y_test, y_pred_xgb_kc1))\n",
    "print(\"\\nClassification Report:\\n\", classification_report(y_test, y_pred_xgb_kc1))\n"
   ]
  },
  {
   "cell_type": "code",
   "execution_count": 1,
   "id": "179c2d61",
   "metadata": {},
   "outputs": [
    {
     "name": "stdout",
     "output_type": "stream",
     "text": [
      "SMOTE training class distribution:\n",
      " defects\n",
      "0    1426\n",
      "1    1426\n",
      "Name: count, dtype: int64\n"
     ]
    },
    {
     "name": "stderr",
     "output_type": "stream",
     "text": [
      "C:\\Users\\josef\\AppData\\Roaming\\Python\\Python313\\site-packages\\joblib\\externals\\loky\\backend\\context.py:136: UserWarning: Could not find the number of physical cores for the following reason:\n",
      "[WinError 2] Det går inte att hitta filen\n",
      "Returning the number of logical cores instead. You can silence this warning by setting LOKY_MAX_CPU_COUNT to the number of cores you want to use.\n",
      "  warnings.warn(\n",
      "  File \"C:\\Users\\josef\\AppData\\Roaming\\Python\\Python313\\site-packages\\joblib\\externals\\loky\\backend\\context.py\", line 257, in _count_physical_cores\n",
      "    cpu_info = subprocess.run(\n",
      "        \"wmic CPU Get NumberOfCores /Format:csv\".split(),\n",
      "        capture_output=True,\n",
      "        text=True,\n",
      "    )\n",
      "  File \"c:\\Program Files\\Python313\\Lib\\subprocess.py\", line 554, in run\n",
      "    with Popen(*popenargs, **kwargs) as process:\n",
      "         ~~~~~^^^^^^^^^^^^^^^^^^^^^^\n",
      "  File \"c:\\Program Files\\Python313\\Lib\\subprocess.py\", line 1036, in __init__\n",
      "    self._execute_child(args, executable, preexec_fn, close_fds,\n",
      "    ~~~~~~~~~~~~~~~~~~~^^^^^^^^^^^^^^^^^^^^^^^^^^^^^^^^^^^^^^^^^\n",
      "                        pass_fds, cwd, env,\n",
      "                        ^^^^^^^^^^^^^^^^^^^\n",
      "    ...<5 lines>...\n",
      "                        gid, gids, uid, umask,\n",
      "                        ^^^^^^^^^^^^^^^^^^^^^^\n",
      "                        start_new_session, process_group)\n",
      "                        ^^^^^^^^^^^^^^^^^^^^^^^^^^^^^^^^^\n",
      "  File \"c:\\Program Files\\Python313\\Lib\\subprocess.py\", line 1548, in _execute_child\n",
      "    hp, ht, pid, tid = _winapi.CreateProcess(executable, args,\n",
      "                       ~~~~~~~~~~~~~~~~~~~~~^^^^^^^^^^^^^^^^^^\n",
      "                             # no special security\n",
      "                             ^^^^^^^^^^^^^^^^^^^^^\n",
      "    ...<4 lines>...\n",
      "                             cwd,\n",
      "                             ^^^^\n",
      "                             startupinfo)\n",
      "                             ^^^^^^^^^^^^\n"
     ]
    }
   ],
   "source": [
    "import pandas as pd\n",
    "from sklearn.model_selection import train_test_split\n",
    "from sklearn.preprocessing import StandardScaler\n",
    "from imblearn.over_sampling import SMOTE\n",
    "from sklearn.ensemble import RandomForestClassifier\n",
    "from sklearn.neural_network import MLPClassifier\n",
    "from sklearn.metrics import classification_report, confusion_matrix\n",
    "\n",
    "# Load KC1 dataset\n",
    "df = pd.read_csv('../data/KC1.csv')\n",
    "df['defects'] = df['defects'].astype(int)\n",
    "\n",
    "# Separate features and target\n",
    "X = df.drop('defects', axis=1)\n",
    "y = df['defects']\n",
    "\n",
    "# Normalize features\n",
    "scaler = StandardScaler()\n",
    "X_scaled = scaler.fit_transform(X)\n",
    "\n",
    "# Split into train and test\n",
    "X_train, X_test, y_train, y_test = train_test_split(\n",
    "    X_scaled, y,\n",
    "    test_size=0.2,\n",
    "    random_state=42,\n",
    "    stratify=y\n",
    ")\n",
    "\n",
    "# Apply SMOTE\n",
    "smote = SMOTE(random_state=42)\n",
    "X_train_smote, y_train_smote = smote.fit_resample(X_train, y_train)\n",
    "\n",
    "# Show class balance after SMOTE\n",
    "print(\"SMOTE training class distribution:\\n\", y_train_smote.value_counts())\n"
   ]
  },
  {
   "cell_type": "code",
   "execution_count": 2,
   "id": "0fdfc1f2",
   "metadata": {},
   "outputs": [
    {
     "name": "stdout",
     "output_type": "stream",
     "text": [
      "[[322  35]\n",
      " [ 29  36]]\n",
      "\n",
      "Classification Report:\n",
      "               precision    recall  f1-score   support\n",
      "\n",
      "           0       0.92      0.90      0.91       357\n",
      "           1       0.51      0.55      0.53        65\n",
      "\n",
      "    accuracy                           0.85       422\n",
      "   macro avg       0.71      0.73      0.72       422\n",
      "weighted avg       0.85      0.85      0.85       422\n",
      "\n"
     ]
    }
   ],
   "source": [
    "# Train Random Forest\n",
    "rf_model_kc1 = RandomForestClassifier(random_state=42)\n",
    "rf_model_kc1.fit(X_train_smote, y_train_smote)\n",
    "\n",
    "# Predict\n",
    "y_pred_rf_kc1 = rf_model_kc1.predict(X_test)\n",
    "\n",
    "# Evaluate\n",
    "print(confusion_matrix(y_test, y_pred_rf_kc1))\n",
    "print(\"\\nClassification Report:\\n\", classification_report(y_test, y_pred_rf_kc1))\n"
   ]
  },
  {
   "cell_type": "code",
   "execution_count": 3,
   "id": "a3bf6637",
   "metadata": {},
   "outputs": [
    {
     "name": "stdout",
     "output_type": "stream",
     "text": [
      "[[297  60]\n",
      " [ 25  40]]\n",
      "\n",
      "Classification Report:\n",
      "               precision    recall  f1-score   support\n",
      "\n",
      "           0       0.92      0.83      0.87       357\n",
      "           1       0.40      0.62      0.48        65\n",
      "\n",
      "    accuracy                           0.80       422\n",
      "   macro avg       0.66      0.72      0.68       422\n",
      "weighted avg       0.84      0.80      0.81       422\n",
      "\n"
     ]
    }
   ],
   "source": [
    "# Train ANN\n",
    "ann_model_kc1 = MLPClassifier(hidden_layer_sizes=(100, 50), max_iter=500, random_state=42)\n",
    "ann_model_kc1.fit(X_train_smote, y_train_smote)\n",
    "\n",
    "# Predict\n",
    "y_pred_ann_kc1 = ann_model_kc1.predict(X_test)\n",
    "\n",
    "# Evaluate\n",
    "print(confusion_matrix(y_test, y_pred_ann_kc1))\n",
    "print(\"\\nClassification Report:\\n\", classification_report(y_test, y_pred_ann_kc1))\n"
   ]
  }
 ],
 "metadata": {
  "kernelspec": {
   "display_name": "Python 3",
   "language": "python",
   "name": "python3"
  },
  "language_info": {
   "codemirror_mode": {
    "name": "ipython",
    "version": 3
   },
   "file_extension": ".py",
   "mimetype": "text/x-python",
   "name": "python",
   "nbconvert_exporter": "python",
   "pygments_lexer": "ipython3",
   "version": "3.13.1"
  }
 },
 "nbformat": 4,
 "nbformat_minor": 5
}
